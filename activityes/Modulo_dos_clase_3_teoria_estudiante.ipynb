{
 "cells": [
  {
   "cell_type": "markdown",
   "metadata": {},
   "source": [
    "# **Clase 3:** Polimorfismo, Interfaces y Clases Abstractas en Python\n",
    "\n",
    "\n",
    "**2.1 Polimorfismo:**  \n",
    "- Polimorfismo en métodos: Sobrescritura de métodos en clases derivadas.  \n"
   ]
  },
  {
   "cell_type": "markdown",
   "metadata": {},
   "source": [
    "**2.2 Clases Abstractas:**  \n",
    "- Es una clase que no puede instanciarse directamente y sirve como plantilla para definir estructuras comunes que otras clases deben seguir. \n",
    "- Contiene uno o más métodos abstractos (comportamientos de la jerarquia), los cuales son métodos que se declaran pero no se implementan en la clase abstracta. \n",
    "- Estas clases se definen utilizando el módulo abc (Abstract Base Classes).\n",
    "- Para crear una clase abstracta se hereda de abc.ABC (Abstract Base Class).\n",
    "- Los métodos abstractos se decoran con @abstractmethod.\n",
    "\n",
    "**Utilidad de las clases abstractas**\n",
    "\n",
    "- **Definir una Interfaz Común:** Permiten garantizar que todas las clases derivadas implementen un conjunto mínimo de métodos o comportamientos, asegurando consistencia en el diseño.\n",
    "- **Proveer Estructura:** Ayudan a estructurar jerarquías de clases al establecer qué métodos deben ser implementados por las subclases.\n",
    "- **Enfoque en la Especificidad:** Las clases abstractas manejan el \"qué\" y no el \"cómo\". Las subclases se centran en implementar los detalles específicos de los métodos.\n",
    "- **Estandarización:** Ideal para equipos grandes de desarrollo o proyectos grandes, ya que garantiza que todas las implementaciones sigan las mismas reglas.\n",
    "- **Soporte para Polimorfismo:** Facilitan el polimorfismo, permitiendo que objetos de diferentes clases sean tratados de manera uniforme si implementan la misma interfaz.\n",
    "\n",
    "\n",
    "**2.3 Interfaces:**  \n",
    "- Define un conjunto de métodos que una clase debe implementar\n",
    "- No proporciona implementación para sus métodos, sino que únicamente declara qué métodos deben existir.\n",
    "- Python no tiene interfaces explícitas como otros lenguajes, pero se simulan con clases abstractas. \n",
    "\n",
    "**Utilidad de las interfaces**\n",
    "- **Estandarización:** Aseguran que las clases que implementan una interfaz tengan un conjunto común de métodos, independientemente de sus detalles internos.\n",
    "- **Desacoplamiento:** Permiten trabajar con abstracciones en lugar de implementaciones específicas, facilitando el diseño de sistemas flexibles y escalables.\n",
    "- **Polimorfismo:** Ayudan a tratar diferentes objetos de manera uniforme si implementan la misma interfaz.\n",
    "- **Compatibilidad:** Son útiles para garantizar que una clase cumpla con un conjunto mínimo de requisitos para interactuar con otras partes del sistema.\n",
    "\n",
    "\n",
    "**Diferencias entre interfaces y clases abstractas en Python**\n",
    "\n",
    "| Aspecto | Interfaz (en Python) | Clase Abstracta |\n",
    "|---------|----------------------|-----------------|\n",
    "|Propósito principal|Definir un conjunto ÚNICO de métodos que deben implementarse.|Proveer una plantilla que puede incluir métodos implementados y abstractos.|\n",
    "|Implementación|No contiene implementación, solo declaraciones.|Puede contener tanto métodos abstractos como métodos concretos.|\n",
    "|Uso|Simulación mediante clases abstractas con métodos abstractos únicamente.|Usada para proveer tanto estructura como funcionalidad común.|\n",
    "|Herencia múltiple|En Python, puedes \"implementar\" varias interfaces (herencia múltiple).|Puedes heredar de una sola clase abstracta, pero combinarla con otras interfaces.|\n",
    "|Ejemplo típico|Definir una API común para clases independientes.|Establecer una base común para clases relacionadas jerárquicamente.|\n",
    "|Estado |No tiene estado: No define atributos.|Tiene estado: Puede incluir atributos compartidos por sus subclases.|\n",
    "|Lógica |No incluye lógica: Solo declara métodos para ser implementados por las clases que \"la implementan\".|Incluye lógica común: Puede implementar métodos que se comportan igual en todas las subclases.\n",
    "\n",
    "\n",
    "***Conclusión***\n",
    "- En Python, la diferencia entre interfaces y clases abstractas es conceptual, ya que ambas se simulan usando clases abstractas (abc.ABC). \n",
    "- Se eligen interfaces (clases abstractas puras) para definir contratos y clases abstractas cuando se necesita proporcionar tanto un contrato como lógica común.\n",
    "\n",
    "\n",
    "**2.4 Buenas Prácticas del PEP 8:**  \n",
    "- **Nombres claros:** Uso de nombres descriptivos para métodos y variables.  \n",
    "- **Convenciones de indentación y espaciado:** Consistencia en los bloques de código.  \n",
    "- **Documentación:** Uso de `docstrings` para explicar métodos abstractos y clases.\n",
    "\n",
    " \n",
    "\n"
   ]
  },
  {
   "cell_type": "markdown",
   "metadata": {},
   "source": [
    "# Recursos de consulta\n",
    "1. [PEP 8 – Style Guide for Python Code](https://peps.python.org/pep-0008/) - Guía oficial de estilo para escribir código Python.\n",
    "2. [Python Docs sobre clases abstractas](https://docs.python.org/3/library/abc.html) - Referencia oficial para la librería `abc`.\n",
    "3. [Real Python: Polymorphism and Interfaces](https://realpython.com/) - Artículos detallados con ejemplos prácticos.\n",
    "4. [W3Schools Python Interfaces](https://www.w3schools.com/python/python_classes.asp) - Explicación básica con ejemplos.\n",
    "5. [GitHub Python Code Style Examples](https://github.com) - Repositorios públicos con ejemplos que aplican el PEP 8.\n"
   ]
  }
 ],
 "metadata": {
  "kernelspec": {
   "display_name": "base",
   "language": "python",
   "name": "python3"
  },
  "language_info": {
   "codemirror_mode": {
    "name": "ipython",
    "version": 3
   },
   "file_extension": ".py",
   "mimetype": "text/x-python",
   "name": "python",
   "nbconvert_exporter": "python",
   "pygments_lexer": "ipython3",
   "version": "3.12.7"
  }
 },
 "nbformat": 4,
 "nbformat_minor": 2
}
