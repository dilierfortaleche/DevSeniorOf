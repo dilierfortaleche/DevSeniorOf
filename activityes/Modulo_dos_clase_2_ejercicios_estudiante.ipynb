{
 "cells": [
  {
   "cell_type": "markdown",
   "metadata": {},
   "source": [
    "# Ejercicios Básicos\n",
    "\n",
    "1. Definir una clase básica con encapsulamiento\n",
    "\n",
    " - Ejercicio: Crea una clase `CuentaBancaria` con un atributo privado `_saldo`. Agrega métodos para depositar y retirar dinero, asegurándote de que no se permita un saldo negativo.  \n"
   ]
  },
  {
   "cell_type": "markdown",
   "metadata": {},
   "source": [
    "2. Herencia simple\n",
    "\n",
    " - Ejercicio: Crea una clase `Vehiculo` con atributos `marca` y `modelo`. Luego, crea una clase `Coche` que herede de `Vehiculo` y agrega un atributo `puertas`.  \n"
   ]
  },
  {
   "cell_type": "markdown",
   "metadata": {},
   "source": [
    "3. Método protegido en una clase\n",
    "\n",
    " - Ejercicio: Agrega un método protegido `_calcular_interes` en la clase `CuentaBancaria` que calcule un 5% de interés sobre el saldo actual.  \n"
   ]
  },
  {
   "cell_type": "markdown",
   "metadata": {},
   "source": [
    "4. Herencia con método personalizado\n",
    "\n",
    " - Ejercicio: Agrega un método `mostrar_info` a `Coche` para mostrar los detalles del vehículo.  \n"
   ]
  },
  {
   "cell_type": "markdown",
   "metadata": {},
   "source": [
    "5. Propiedades con decoradores\n",
    "\n",
    " - Ejercicio: Modifica la clase `CuentaBancaria` para usar decoradores `@property` y `@setter` en el atributo `_saldo`.  \n"
   ]
  },
  {
   "cell_type": "markdown",
   "metadata": {},
   "source": [
    "# Ejercicios Intermedios\n",
    "\n",
    "Ejercicio 1: Jerarquía de clases\n",
    "\n",
    " Problema: Define una jerarquía con tres niveles: `Animal`, `Mamifero` y `Perro`. Implementa métodos en cada nivel.\n"
   ]
  },
  {
   "cell_type": "markdown",
   "metadata": {},
   "source": [
    "Ejercicio 2: Métodos estáticos y de clase\n",
    "\n",
    "Problema: Crea una clase `Matematicas` con métodos estáticos para sumar y restar números.\n"
   ]
  },
  {
   "cell_type": "markdown",
   "metadata": {},
   "source": [
    "Ejercicio 3: Herencia múltiple\n",
    "\n",
    "Problema: Diseña una clase `Empleado` y otra clase `Estudiante`. Luego crea `EstudianteEmpleado` como herencia múltiple.\n"
   ]
  },
  {
   "cell_type": "markdown",
   "metadata": {},
   "source": [
    "Ejercicio 4: Modificadores de acceso en un sistema de login\n",
    "\n",
    "`Problema`: Implementa una clase `Usuario` con atributos privados para el usuario y contraseña, y métodos para validarlos.\n"
   ]
  },
  {
   "cell_type": "markdown",
   "metadata": {},
   "source": [
    "Ejercicio 5: Encapsulación con validaciones\n",
    "\n",
    "Problema: Amplía `CuentaBancaria` para validar transacciones con límites máximos.\n"
   ]
  },
  {
   "cell_type": "markdown",
   "metadata": {},
   "source": [
    "# Recursos de Consulta\n",
    "\n",
    "1. PEP 8 – Style Guide for Python Code: [Consulta aquí](https://peps.python.org/pep-0008/).  \n",
    "\n",
    "2. Documentación oficial de Python:\n",
    "\t- [Clases y objetos](https://docs.python.org/3/tutorial/classes.html).  \n",
    "\t- [Encapsulación](https://docs.python.org/3/tutorial/classes.html#private-variables).  \n",
    "\t- [Herencia](https://docs.python.org/3/tutorial/classes.html#inheritance).  \n",
    "\n",
    "3. Real Python: Tutoriales y ejemplos prácticos sobre OOP y Python ([Enlace](https://realpython.com/)).  \n",
    "\n",
    "4. GeeksforGeeks: Explicaciones detalladas y ejercicios de encapsulación y herencia\n",
    "([Enlace](https://www.geeksforgeeks.org/python-programming-language/)).  \n",
    "\n",
    "5. W3Schools Python: Conceptos básicos y avanzados con ejemplos interactivos\n",
    "[Enlace](https://www.w3schools.com/python/)).  \n"
   ]
  }
 ],
 "metadata": {
  "kernelspec": {
   "display_name": "base",
   "language": "python",
   "name": "python3"
  },
  "language_info": {
   "codemirror_mode": {
    "name": "ipython",
    "version": 3
   },
   "file_extension": ".py",
   "mimetype": "text/x-python",
   "name": "python",
   "nbconvert_exporter": "python",
   "pygments_lexer": "ipython3",
   "version": "3.12.7"
  }
 },
 "nbformat": 4,
 "nbformat_minor": 2
}
