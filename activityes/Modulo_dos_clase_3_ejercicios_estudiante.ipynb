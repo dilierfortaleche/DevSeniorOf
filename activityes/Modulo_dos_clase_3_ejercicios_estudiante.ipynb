{
 "cells": [
  {
   "cell_type": "markdown",
   "metadata": {},
   "source": [
    "# Ejercicios básicos con soluciones\n",
    "\n",
    "### Ejercicio 1: Clase abstracta de figura geométrica\n",
    "Crea una clase abstracta `Figura` con un método abstracto `area`. Luego, implementa clases concretas `Cuadrado` y `Rectángulo` que calculen el área.\n"
   ]
  },
  {
   "cell_type": "markdown",
   "metadata": {},
   "source": [
    "### Ejercicio 2: Polimorfismo con animales\n",
    "Crea una clase `Animal` con un método `hacer_sonido`. Implementa dos clases derivadas, `Perro` y `Gato`, que sobrescriban este método.\n"
   ]
  },
  {
   "cell_type": "markdown",
   "metadata": {},
   "source": [
    "### Ejercicio 3: Interface para vehículo\n",
    "Define una interface `Vehiculo` que obligue a implementar los métodos `arrancar` y `detener`. Crea clases `Auto` y `Bicicleta` que implementen la interface.\n"
   ]
  },
  {
   "cell_type": "markdown",
   "metadata": {},
   "source": [
    "### Ejercicio 4: Herencia con polimorfismo\n",
    "Crea una clase base `Empleado` con un método `salario`. Hereda las clases `TiempoCompleto` y `MedioTiempo`, sobrescribiendo el cálculo del salario.\n"
   ]
  },
  {
   "cell_type": "markdown",
   "metadata": {},
   "source": [
    "### Ejercicio 5: Formas geométricas polimórficas\n",
    "Crea una lista de formas geométricas (usando la clase `Figura` del Ejercicio 1) y calcula su área en un solo bucle.\n"
   ]
  },
  {
   "cell_type": "markdown",
   "metadata": {},
   "source": [
    "# Ejercicios intermedios con soluciones\n",
    "\n",
    "### Ejercicio 1: Sistema de manejo de empleados\n",
    "Crea un sistema que calcule el bono anual de empleados basado en su tipo. Define una clase abstracta Empleado con un método abstracto calcular_bono. Implementa clases concretas Gerente, Desarrollador y Asistente, donde cada clase tenga su propia fórmula para calcular el bono.\n"
   ]
  },
  {
   "cell_type": "markdown",
   "metadata": {},
   "source": [
    "### Ejercicio 2: Sistema de pago con múltiples métodos\n",
    "Crea una clase abstracta MetodoPago con métodos abstractos procesar_pago y cancelar_pago. Implementa clases concretas TarjetaCredito, PayPal, y TransferenciaBancaria que sobrescriban estos métodos con sus propias implementaciones.\n"
   ]
  },
  {
   "cell_type": "markdown",
   "metadata": {},
   "source": [
    "### Ejercicio 3: Sistema de transporte\n",
    "Define una clase abstracta Transporte con métodos mover y detener. Implementa clases concretas Coche, Bicicleta y Tren. Cada clase debe personalizar cómo se mueven y detienen los transportes.\n"
   ]
  },
  {
   "cell_type": "markdown",
   "metadata": {},
   "source": [
    "### Ejercicio 4: Polimorfismo en formas geométricas\n",
    "Amplía el ejercicio básico de formas geométricas para incluir Triangulo. Además, implementa un método adicional descripcion en todas las formas.\n"
   ]
  },
  {
   "cell_type": "markdown",
   "metadata": {},
   "source": [
    "### Ejercicio 5: Registro de animales con diferentes habilidades\n",
    "Crea una clase abstracta Animal con un método habilidad. Implementa Ave, Pez y Mamifero, especificando una habilidad particular para cada tipo de animal.\n"
   ]
  },
  {
   "cell_type": "markdown",
   "metadata": {},
   "source": [
    "# Recursos de consulta\n",
    "1. [PEP 8 – Style Guide for Python Code](https://peps.python.org/pep-0008/) - Guía oficial de estilo para escribir código Python.\n",
    "2. [Python Docs sobre clases abstractas](https://docs.python.org/3/library/abc.html) - Referencia oficial para la librería `abc`.\n",
    "3. [Real Python: Polymorphism and Interfaces](https://realpython.com/) - Artículos detallados con ejemplos prácticos.\n",
    "4. [W3Schools Python Interfaces](https://www.w3schools.com/python/python_classes.asp) - Explicación básica con ejemplos.\n",
    "5. [GitHub Python Code Style Examples](https://github.com) - Repositorios públicos con ejemplos que aplican el PEP 8."
   ]
  }
 ],
 "metadata": {
  "kernelspec": {
   "display_name": "base",
   "language": "python",
   "name": "python3"
  },
  "language_info": {
   "codemirror_mode": {
    "name": "ipython",
    "version": 3
   },
   "file_extension": ".py",
   "mimetype": "text/x-python",
   "name": "python",
   "nbconvert_exporter": "python",
   "pygments_lexer": "ipython3",
   "version": "3.12.7"
  }
 },
 "nbformat": 4,
 "nbformat_minor": 2
}
